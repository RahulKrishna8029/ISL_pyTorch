{
  "nbformat": 4,
  "nbformat_minor": 0,
  "metadata": {
    "colab": {
      "provenance": [],
      "authorship_tag": "ABX9TyPZ8OgG3xb5a6wlZGYDxo/N",
      "include_colab_link": true
    },
    "kernelspec": {
      "name": "python3",
      "display_name": "Python 3"
    },
    "language_info": {
      "name": "python"
    },
    "gpuClass": "standard",
    "widgets": {
      "application/vnd.jupyter.widget-state+json": {
        "a41f9f53e9b549bc935ecf99be4cb74e": {
          "model_module": "@jupyter-widgets/controls",
          "model_name": "HBoxModel",
          "model_module_version": "1.5.0",
          "state": {
            "_dom_classes": [],
            "_model_module": "@jupyter-widgets/controls",
            "_model_module_version": "1.5.0",
            "_model_name": "HBoxModel",
            "_view_count": null,
            "_view_module": "@jupyter-widgets/controls",
            "_view_module_version": "1.5.0",
            "_view_name": "HBoxView",
            "box_style": "",
            "children": [
              "IPY_MODEL_b62ad888171942a2b20f9b291c543bfc",
              "IPY_MODEL_a0f31b22c5624fb0926267faf984cc80",
              "IPY_MODEL_0eea7e75598f45008648ea94f6919082"
            ],
            "layout": "IPY_MODEL_beba7e05e9304ed98ee19abe92b0ee79"
          }
        },
        "b62ad888171942a2b20f9b291c543bfc": {
          "model_module": "@jupyter-widgets/controls",
          "model_name": "HTMLModel",
          "model_module_version": "1.5.0",
          "state": {
            "_dom_classes": [],
            "_model_module": "@jupyter-widgets/controls",
            "_model_module_version": "1.5.0",
            "_model_name": "HTMLModel",
            "_view_count": null,
            "_view_module": "@jupyter-widgets/controls",
            "_view_module_version": "1.5.0",
            "_view_name": "HTMLView",
            "description": "",
            "description_tooltip": null,
            "layout": "IPY_MODEL_10bd6e7ef49c4f8787b89e6875083b75",
            "placeholder": "​",
            "style": "IPY_MODEL_66c3c4a51ad14155943853f591a66bbf",
            "value": "100%"
          }
        },
        "a0f31b22c5624fb0926267faf984cc80": {
          "model_module": "@jupyter-widgets/controls",
          "model_name": "FloatProgressModel",
          "model_module_version": "1.5.0",
          "state": {
            "_dom_classes": [],
            "_model_module": "@jupyter-widgets/controls",
            "_model_module_version": "1.5.0",
            "_model_name": "FloatProgressModel",
            "_view_count": null,
            "_view_module": "@jupyter-widgets/controls",
            "_view_module_version": "1.5.0",
            "_view_name": "ProgressView",
            "bar_style": "success",
            "description": "",
            "description_tooltip": null,
            "layout": "IPY_MODEL_1829af887e404f01b9991d697cd0133b",
            "max": 26421880,
            "min": 0,
            "orientation": "horizontal",
            "style": "IPY_MODEL_0d38d3023046430d9226918a4309b051",
            "value": 26421880
          }
        },
        "0eea7e75598f45008648ea94f6919082": {
          "model_module": "@jupyter-widgets/controls",
          "model_name": "HTMLModel",
          "model_module_version": "1.5.0",
          "state": {
            "_dom_classes": [],
            "_model_module": "@jupyter-widgets/controls",
            "_model_module_version": "1.5.0",
            "_model_name": "HTMLModel",
            "_view_count": null,
            "_view_module": "@jupyter-widgets/controls",
            "_view_module_version": "1.5.0",
            "_view_name": "HTMLView",
            "description": "",
            "description_tooltip": null,
            "layout": "IPY_MODEL_e6adb21b094049f2ba04e046bffc8eaf",
            "placeholder": "​",
            "style": "IPY_MODEL_8644b8e3bf974c9499c0923af4a753cc",
            "value": " 26421880/26421880 [00:03&lt;00:00, 11276979.17it/s]"
          }
        },
        "beba7e05e9304ed98ee19abe92b0ee79": {
          "model_module": "@jupyter-widgets/base",
          "model_name": "LayoutModel",
          "model_module_version": "1.2.0",
          "state": {
            "_model_module": "@jupyter-widgets/base",
            "_model_module_version": "1.2.0",
            "_model_name": "LayoutModel",
            "_view_count": null,
            "_view_module": "@jupyter-widgets/base",
            "_view_module_version": "1.2.0",
            "_view_name": "LayoutView",
            "align_content": null,
            "align_items": null,
            "align_self": null,
            "border": null,
            "bottom": null,
            "display": null,
            "flex": null,
            "flex_flow": null,
            "grid_area": null,
            "grid_auto_columns": null,
            "grid_auto_flow": null,
            "grid_auto_rows": null,
            "grid_column": null,
            "grid_gap": null,
            "grid_row": null,
            "grid_template_areas": null,
            "grid_template_columns": null,
            "grid_template_rows": null,
            "height": null,
            "justify_content": null,
            "justify_items": null,
            "left": null,
            "margin": null,
            "max_height": null,
            "max_width": null,
            "min_height": null,
            "min_width": null,
            "object_fit": null,
            "object_position": null,
            "order": null,
            "overflow": null,
            "overflow_x": null,
            "overflow_y": null,
            "padding": null,
            "right": null,
            "top": null,
            "visibility": null,
            "width": null
          }
        },
        "10bd6e7ef49c4f8787b89e6875083b75": {
          "model_module": "@jupyter-widgets/base",
          "model_name": "LayoutModel",
          "model_module_version": "1.2.0",
          "state": {
            "_model_module": "@jupyter-widgets/base",
            "_model_module_version": "1.2.0",
            "_model_name": "LayoutModel",
            "_view_count": null,
            "_view_module": "@jupyter-widgets/base",
            "_view_module_version": "1.2.0",
            "_view_name": "LayoutView",
            "align_content": null,
            "align_items": null,
            "align_self": null,
            "border": null,
            "bottom": null,
            "display": null,
            "flex": null,
            "flex_flow": null,
            "grid_area": null,
            "grid_auto_columns": null,
            "grid_auto_flow": null,
            "grid_auto_rows": null,
            "grid_column": null,
            "grid_gap": null,
            "grid_row": null,
            "grid_template_areas": null,
            "grid_template_columns": null,
            "grid_template_rows": null,
            "height": null,
            "justify_content": null,
            "justify_items": null,
            "left": null,
            "margin": null,
            "max_height": null,
            "max_width": null,
            "min_height": null,
            "min_width": null,
            "object_fit": null,
            "object_position": null,
            "order": null,
            "overflow": null,
            "overflow_x": null,
            "overflow_y": null,
            "padding": null,
            "right": null,
            "top": null,
            "visibility": null,
            "width": null
          }
        },
        "66c3c4a51ad14155943853f591a66bbf": {
          "model_module": "@jupyter-widgets/controls",
          "model_name": "DescriptionStyleModel",
          "model_module_version": "1.5.0",
          "state": {
            "_model_module": "@jupyter-widgets/controls",
            "_model_module_version": "1.5.0",
            "_model_name": "DescriptionStyleModel",
            "_view_count": null,
            "_view_module": "@jupyter-widgets/base",
            "_view_module_version": "1.2.0",
            "_view_name": "StyleView",
            "description_width": ""
          }
        },
        "1829af887e404f01b9991d697cd0133b": {
          "model_module": "@jupyter-widgets/base",
          "model_name": "LayoutModel",
          "model_module_version": "1.2.0",
          "state": {
            "_model_module": "@jupyter-widgets/base",
            "_model_module_version": "1.2.0",
            "_model_name": "LayoutModel",
            "_view_count": null,
            "_view_module": "@jupyter-widgets/base",
            "_view_module_version": "1.2.0",
            "_view_name": "LayoutView",
            "align_content": null,
            "align_items": null,
            "align_self": null,
            "border": null,
            "bottom": null,
            "display": null,
            "flex": null,
            "flex_flow": null,
            "grid_area": null,
            "grid_auto_columns": null,
            "grid_auto_flow": null,
            "grid_auto_rows": null,
            "grid_column": null,
            "grid_gap": null,
            "grid_row": null,
            "grid_template_areas": null,
            "grid_template_columns": null,
            "grid_template_rows": null,
            "height": null,
            "justify_content": null,
            "justify_items": null,
            "left": null,
            "margin": null,
            "max_height": null,
            "max_width": null,
            "min_height": null,
            "min_width": null,
            "object_fit": null,
            "object_position": null,
            "order": null,
            "overflow": null,
            "overflow_x": null,
            "overflow_y": null,
            "padding": null,
            "right": null,
            "top": null,
            "visibility": null,
            "width": null
          }
        },
        "0d38d3023046430d9226918a4309b051": {
          "model_module": "@jupyter-widgets/controls",
          "model_name": "ProgressStyleModel",
          "model_module_version": "1.5.0",
          "state": {
            "_model_module": "@jupyter-widgets/controls",
            "_model_module_version": "1.5.0",
            "_model_name": "ProgressStyleModel",
            "_view_count": null,
            "_view_module": "@jupyter-widgets/base",
            "_view_module_version": "1.2.0",
            "_view_name": "StyleView",
            "bar_color": null,
            "description_width": ""
          }
        },
        "e6adb21b094049f2ba04e046bffc8eaf": {
          "model_module": "@jupyter-widgets/base",
          "model_name": "LayoutModel",
          "model_module_version": "1.2.0",
          "state": {
            "_model_module": "@jupyter-widgets/base",
            "_model_module_version": "1.2.0",
            "_model_name": "LayoutModel",
            "_view_count": null,
            "_view_module": "@jupyter-widgets/base",
            "_view_module_version": "1.2.0",
            "_view_name": "LayoutView",
            "align_content": null,
            "align_items": null,
            "align_self": null,
            "border": null,
            "bottom": null,
            "display": null,
            "flex": null,
            "flex_flow": null,
            "grid_area": null,
            "grid_auto_columns": null,
            "grid_auto_flow": null,
            "grid_auto_rows": null,
            "grid_column": null,
            "grid_gap": null,
            "grid_row": null,
            "grid_template_areas": null,
            "grid_template_columns": null,
            "grid_template_rows": null,
            "height": null,
            "justify_content": null,
            "justify_items": null,
            "left": null,
            "margin": null,
            "max_height": null,
            "max_width": null,
            "min_height": null,
            "min_width": null,
            "object_fit": null,
            "object_position": null,
            "order": null,
            "overflow": null,
            "overflow_x": null,
            "overflow_y": null,
            "padding": null,
            "right": null,
            "top": null,
            "visibility": null,
            "width": null
          }
        },
        "8644b8e3bf974c9499c0923af4a753cc": {
          "model_module": "@jupyter-widgets/controls",
          "model_name": "DescriptionStyleModel",
          "model_module_version": "1.5.0",
          "state": {
            "_model_module": "@jupyter-widgets/controls",
            "_model_module_version": "1.5.0",
            "_model_name": "DescriptionStyleModel",
            "_view_count": null,
            "_view_module": "@jupyter-widgets/base",
            "_view_module_version": "1.2.0",
            "_view_name": "StyleView",
            "description_width": ""
          }
        },
        "a46dc024211e47ea929d58697d983810": {
          "model_module": "@jupyter-widgets/controls",
          "model_name": "HBoxModel",
          "model_module_version": "1.5.0",
          "state": {
            "_dom_classes": [],
            "_model_module": "@jupyter-widgets/controls",
            "_model_module_version": "1.5.0",
            "_model_name": "HBoxModel",
            "_view_count": null,
            "_view_module": "@jupyter-widgets/controls",
            "_view_module_version": "1.5.0",
            "_view_name": "HBoxView",
            "box_style": "",
            "children": [
              "IPY_MODEL_745fabaa5b0e43a88a518d194165e142",
              "IPY_MODEL_0a3884e4eff041f7882f2c2b602868e8",
              "IPY_MODEL_4749496727604fb3a33b903cc4b4627b"
            ],
            "layout": "IPY_MODEL_2e2aff94222841d9af075b8474013a4f"
          }
        },
        "745fabaa5b0e43a88a518d194165e142": {
          "model_module": "@jupyter-widgets/controls",
          "model_name": "HTMLModel",
          "model_module_version": "1.5.0",
          "state": {
            "_dom_classes": [],
            "_model_module": "@jupyter-widgets/controls",
            "_model_module_version": "1.5.0",
            "_model_name": "HTMLModel",
            "_view_count": null,
            "_view_module": "@jupyter-widgets/controls",
            "_view_module_version": "1.5.0",
            "_view_name": "HTMLView",
            "description": "",
            "description_tooltip": null,
            "layout": "IPY_MODEL_3f965b423b994ea6854533ed936bd606",
            "placeholder": "​",
            "style": "IPY_MODEL_d5412306075d4c23a87fee040fde94df",
            "value": "100%"
          }
        },
        "0a3884e4eff041f7882f2c2b602868e8": {
          "model_module": "@jupyter-widgets/controls",
          "model_name": "FloatProgressModel",
          "model_module_version": "1.5.0",
          "state": {
            "_dom_classes": [],
            "_model_module": "@jupyter-widgets/controls",
            "_model_module_version": "1.5.0",
            "_model_name": "FloatProgressModel",
            "_view_count": null,
            "_view_module": "@jupyter-widgets/controls",
            "_view_module_version": "1.5.0",
            "_view_name": "ProgressView",
            "bar_style": "success",
            "description": "",
            "description_tooltip": null,
            "layout": "IPY_MODEL_68a43d14dd2a4c2ea16656d30c2fb061",
            "max": 29515,
            "min": 0,
            "orientation": "horizontal",
            "style": "IPY_MODEL_684ff61b9edf43b7a42301c90d93799b",
            "value": 29515
          }
        },
        "4749496727604fb3a33b903cc4b4627b": {
          "model_module": "@jupyter-widgets/controls",
          "model_name": "HTMLModel",
          "model_module_version": "1.5.0",
          "state": {
            "_dom_classes": [],
            "_model_module": "@jupyter-widgets/controls",
            "_model_module_version": "1.5.0",
            "_model_name": "HTMLModel",
            "_view_count": null,
            "_view_module": "@jupyter-widgets/controls",
            "_view_module_version": "1.5.0",
            "_view_name": "HTMLView",
            "description": "",
            "description_tooltip": null,
            "layout": "IPY_MODEL_be7fd6eba7c940fa852f6b54ddac12fa",
            "placeholder": "​",
            "style": "IPY_MODEL_9a3e79470ebb4d6d8e7309c34a95ce57",
            "value": " 29515/29515 [00:00&lt;00:00, 119187.91it/s]"
          }
        },
        "2e2aff94222841d9af075b8474013a4f": {
          "model_module": "@jupyter-widgets/base",
          "model_name": "LayoutModel",
          "model_module_version": "1.2.0",
          "state": {
            "_model_module": "@jupyter-widgets/base",
            "_model_module_version": "1.2.0",
            "_model_name": "LayoutModel",
            "_view_count": null,
            "_view_module": "@jupyter-widgets/base",
            "_view_module_version": "1.2.0",
            "_view_name": "LayoutView",
            "align_content": null,
            "align_items": null,
            "align_self": null,
            "border": null,
            "bottom": null,
            "display": null,
            "flex": null,
            "flex_flow": null,
            "grid_area": null,
            "grid_auto_columns": null,
            "grid_auto_flow": null,
            "grid_auto_rows": null,
            "grid_column": null,
            "grid_gap": null,
            "grid_row": null,
            "grid_template_areas": null,
            "grid_template_columns": null,
            "grid_template_rows": null,
            "height": null,
            "justify_content": null,
            "justify_items": null,
            "left": null,
            "margin": null,
            "max_height": null,
            "max_width": null,
            "min_height": null,
            "min_width": null,
            "object_fit": null,
            "object_position": null,
            "order": null,
            "overflow": null,
            "overflow_x": null,
            "overflow_y": null,
            "padding": null,
            "right": null,
            "top": null,
            "visibility": null,
            "width": null
          }
        },
        "3f965b423b994ea6854533ed936bd606": {
          "model_module": "@jupyter-widgets/base",
          "model_name": "LayoutModel",
          "model_module_version": "1.2.0",
          "state": {
            "_model_module": "@jupyter-widgets/base",
            "_model_module_version": "1.2.0",
            "_model_name": "LayoutModel",
            "_view_count": null,
            "_view_module": "@jupyter-widgets/base",
            "_view_module_version": "1.2.0",
            "_view_name": "LayoutView",
            "align_content": null,
            "align_items": null,
            "align_self": null,
            "border": null,
            "bottom": null,
            "display": null,
            "flex": null,
            "flex_flow": null,
            "grid_area": null,
            "grid_auto_columns": null,
            "grid_auto_flow": null,
            "grid_auto_rows": null,
            "grid_column": null,
            "grid_gap": null,
            "grid_row": null,
            "grid_template_areas": null,
            "grid_template_columns": null,
            "grid_template_rows": null,
            "height": null,
            "justify_content": null,
            "justify_items": null,
            "left": null,
            "margin": null,
            "max_height": null,
            "max_width": null,
            "min_height": null,
            "min_width": null,
            "object_fit": null,
            "object_position": null,
            "order": null,
            "overflow": null,
            "overflow_x": null,
            "overflow_y": null,
            "padding": null,
            "right": null,
            "top": null,
            "visibility": null,
            "width": null
          }
        },
        "d5412306075d4c23a87fee040fde94df": {
          "model_module": "@jupyter-widgets/controls",
          "model_name": "DescriptionStyleModel",
          "model_module_version": "1.5.0",
          "state": {
            "_model_module": "@jupyter-widgets/controls",
            "_model_module_version": "1.5.0",
            "_model_name": "DescriptionStyleModel",
            "_view_count": null,
            "_view_module": "@jupyter-widgets/base",
            "_view_module_version": "1.2.0",
            "_view_name": "StyleView",
            "description_width": ""
          }
        },
        "68a43d14dd2a4c2ea16656d30c2fb061": {
          "model_module": "@jupyter-widgets/base",
          "model_name": "LayoutModel",
          "model_module_version": "1.2.0",
          "state": {
            "_model_module": "@jupyter-widgets/base",
            "_model_module_version": "1.2.0",
            "_model_name": "LayoutModel",
            "_view_count": null,
            "_view_module": "@jupyter-widgets/base",
            "_view_module_version": "1.2.0",
            "_view_name": "LayoutView",
            "align_content": null,
            "align_items": null,
            "align_self": null,
            "border": null,
            "bottom": null,
            "display": null,
            "flex": null,
            "flex_flow": null,
            "grid_area": null,
            "grid_auto_columns": null,
            "grid_auto_flow": null,
            "grid_auto_rows": null,
            "grid_column": null,
            "grid_gap": null,
            "grid_row": null,
            "grid_template_areas": null,
            "grid_template_columns": null,
            "grid_template_rows": null,
            "height": null,
            "justify_content": null,
            "justify_items": null,
            "left": null,
            "margin": null,
            "max_height": null,
            "max_width": null,
            "min_height": null,
            "min_width": null,
            "object_fit": null,
            "object_position": null,
            "order": null,
            "overflow": null,
            "overflow_x": null,
            "overflow_y": null,
            "padding": null,
            "right": null,
            "top": null,
            "visibility": null,
            "width": null
          }
        },
        "684ff61b9edf43b7a42301c90d93799b": {
          "model_module": "@jupyter-widgets/controls",
          "model_name": "ProgressStyleModel",
          "model_module_version": "1.5.0",
          "state": {
            "_model_module": "@jupyter-widgets/controls",
            "_model_module_version": "1.5.0",
            "_model_name": "ProgressStyleModel",
            "_view_count": null,
            "_view_module": "@jupyter-widgets/base",
            "_view_module_version": "1.2.0",
            "_view_name": "StyleView",
            "bar_color": null,
            "description_width": ""
          }
        },
        "be7fd6eba7c940fa852f6b54ddac12fa": {
          "model_module": "@jupyter-widgets/base",
          "model_name": "LayoutModel",
          "model_module_version": "1.2.0",
          "state": {
            "_model_module": "@jupyter-widgets/base",
            "_model_module_version": "1.2.0",
            "_model_name": "LayoutModel",
            "_view_count": null,
            "_view_module": "@jupyter-widgets/base",
            "_view_module_version": "1.2.0",
            "_view_name": "LayoutView",
            "align_content": null,
            "align_items": null,
            "align_self": null,
            "border": null,
            "bottom": null,
            "display": null,
            "flex": null,
            "flex_flow": null,
            "grid_area": null,
            "grid_auto_columns": null,
            "grid_auto_flow": null,
            "grid_auto_rows": null,
            "grid_column": null,
            "grid_gap": null,
            "grid_row": null,
            "grid_template_areas": null,
            "grid_template_columns": null,
            "grid_template_rows": null,
            "height": null,
            "justify_content": null,
            "justify_items": null,
            "left": null,
            "margin": null,
            "max_height": null,
            "max_width": null,
            "min_height": null,
            "min_width": null,
            "object_fit": null,
            "object_position": null,
            "order": null,
            "overflow": null,
            "overflow_x": null,
            "overflow_y": null,
            "padding": null,
            "right": null,
            "top": null,
            "visibility": null,
            "width": null
          }
        },
        "9a3e79470ebb4d6d8e7309c34a95ce57": {
          "model_module": "@jupyter-widgets/controls",
          "model_name": "DescriptionStyleModel",
          "model_module_version": "1.5.0",
          "state": {
            "_model_module": "@jupyter-widgets/controls",
            "_model_module_version": "1.5.0",
            "_model_name": "DescriptionStyleModel",
            "_view_count": null,
            "_view_module": "@jupyter-widgets/base",
            "_view_module_version": "1.2.0",
            "_view_name": "StyleView",
            "description_width": ""
          }
        },
        "c04e52038fff4e34bcf258644e497d49": {
          "model_module": "@jupyter-widgets/controls",
          "model_name": "HBoxModel",
          "model_module_version": "1.5.0",
          "state": {
            "_dom_classes": [],
            "_model_module": "@jupyter-widgets/controls",
            "_model_module_version": "1.5.0",
            "_model_name": "HBoxModel",
            "_view_count": null,
            "_view_module": "@jupyter-widgets/controls",
            "_view_module_version": "1.5.0",
            "_view_name": "HBoxView",
            "box_style": "",
            "children": [
              "IPY_MODEL_5327b4f9e300420eaecc24709aa7ad4e",
              "IPY_MODEL_42f82daab8e146e584a9ed359057b28f",
              "IPY_MODEL_ae0713d48cfb401b99748aa49ae4ca19"
            ],
            "layout": "IPY_MODEL_4edf1679089e4e9baa31c98da419ede8"
          }
        },
        "5327b4f9e300420eaecc24709aa7ad4e": {
          "model_module": "@jupyter-widgets/controls",
          "model_name": "HTMLModel",
          "model_module_version": "1.5.0",
          "state": {
            "_dom_classes": [],
            "_model_module": "@jupyter-widgets/controls",
            "_model_module_version": "1.5.0",
            "_model_name": "HTMLModel",
            "_view_count": null,
            "_view_module": "@jupyter-widgets/controls",
            "_view_module_version": "1.5.0",
            "_view_name": "HTMLView",
            "description": "",
            "description_tooltip": null,
            "layout": "IPY_MODEL_7c65ba1441c642dfb9eee62648243cc2",
            "placeholder": "​",
            "style": "IPY_MODEL_4005ce6b27dc4675800c0489136bac02",
            "value": "100%"
          }
        },
        "42f82daab8e146e584a9ed359057b28f": {
          "model_module": "@jupyter-widgets/controls",
          "model_name": "FloatProgressModel",
          "model_module_version": "1.5.0",
          "state": {
            "_dom_classes": [],
            "_model_module": "@jupyter-widgets/controls",
            "_model_module_version": "1.5.0",
            "_model_name": "FloatProgressModel",
            "_view_count": null,
            "_view_module": "@jupyter-widgets/controls",
            "_view_module_version": "1.5.0",
            "_view_name": "ProgressView",
            "bar_style": "success",
            "description": "",
            "description_tooltip": null,
            "layout": "IPY_MODEL_480eefbb0c3d4ec9888cb7d6b74955dc",
            "max": 4422102,
            "min": 0,
            "orientation": "horizontal",
            "style": "IPY_MODEL_d2020fde83a44c94aa8a600fa73d24a1",
            "value": 4422102
          }
        },
        "ae0713d48cfb401b99748aa49ae4ca19": {
          "model_module": "@jupyter-widgets/controls",
          "model_name": "HTMLModel",
          "model_module_version": "1.5.0",
          "state": {
            "_dom_classes": [],
            "_model_module": "@jupyter-widgets/controls",
            "_model_module_version": "1.5.0",
            "_model_name": "HTMLModel",
            "_view_count": null,
            "_view_module": "@jupyter-widgets/controls",
            "_view_module_version": "1.5.0",
            "_view_name": "HTMLView",
            "description": "",
            "description_tooltip": null,
            "layout": "IPY_MODEL_42ae2733e0794806bc377a7cc58d07b5",
            "placeholder": "​",
            "style": "IPY_MODEL_b943620d58f044e38a7f6342967e4ce1",
            "value": " 4422102/4422102 [00:02&lt;00:00, 3369760.36it/s]"
          }
        },
        "4edf1679089e4e9baa31c98da419ede8": {
          "model_module": "@jupyter-widgets/base",
          "model_name": "LayoutModel",
          "model_module_version": "1.2.0",
          "state": {
            "_model_module": "@jupyter-widgets/base",
            "_model_module_version": "1.2.0",
            "_model_name": "LayoutModel",
            "_view_count": null,
            "_view_module": "@jupyter-widgets/base",
            "_view_module_version": "1.2.0",
            "_view_name": "LayoutView",
            "align_content": null,
            "align_items": null,
            "align_self": null,
            "border": null,
            "bottom": null,
            "display": null,
            "flex": null,
            "flex_flow": null,
            "grid_area": null,
            "grid_auto_columns": null,
            "grid_auto_flow": null,
            "grid_auto_rows": null,
            "grid_column": null,
            "grid_gap": null,
            "grid_row": null,
            "grid_template_areas": null,
            "grid_template_columns": null,
            "grid_template_rows": null,
            "height": null,
            "justify_content": null,
            "justify_items": null,
            "left": null,
            "margin": null,
            "max_height": null,
            "max_width": null,
            "min_height": null,
            "min_width": null,
            "object_fit": null,
            "object_position": null,
            "order": null,
            "overflow": null,
            "overflow_x": null,
            "overflow_y": null,
            "padding": null,
            "right": null,
            "top": null,
            "visibility": null,
            "width": null
          }
        },
        "7c65ba1441c642dfb9eee62648243cc2": {
          "model_module": "@jupyter-widgets/base",
          "model_name": "LayoutModel",
          "model_module_version": "1.2.0",
          "state": {
            "_model_module": "@jupyter-widgets/base",
            "_model_module_version": "1.2.0",
            "_model_name": "LayoutModel",
            "_view_count": null,
            "_view_module": "@jupyter-widgets/base",
            "_view_module_version": "1.2.0",
            "_view_name": "LayoutView",
            "align_content": null,
            "align_items": null,
            "align_self": null,
            "border": null,
            "bottom": null,
            "display": null,
            "flex": null,
            "flex_flow": null,
            "grid_area": null,
            "grid_auto_columns": null,
            "grid_auto_flow": null,
            "grid_auto_rows": null,
            "grid_column": null,
            "grid_gap": null,
            "grid_row": null,
            "grid_template_areas": null,
            "grid_template_columns": null,
            "grid_template_rows": null,
            "height": null,
            "justify_content": null,
            "justify_items": null,
            "left": null,
            "margin": null,
            "max_height": null,
            "max_width": null,
            "min_height": null,
            "min_width": null,
            "object_fit": null,
            "object_position": null,
            "order": null,
            "overflow": null,
            "overflow_x": null,
            "overflow_y": null,
            "padding": null,
            "right": null,
            "top": null,
            "visibility": null,
            "width": null
          }
        },
        "4005ce6b27dc4675800c0489136bac02": {
          "model_module": "@jupyter-widgets/controls",
          "model_name": "DescriptionStyleModel",
          "model_module_version": "1.5.0",
          "state": {
            "_model_module": "@jupyter-widgets/controls",
            "_model_module_version": "1.5.0",
            "_model_name": "DescriptionStyleModel",
            "_view_count": null,
            "_view_module": "@jupyter-widgets/base",
            "_view_module_version": "1.2.0",
            "_view_name": "StyleView",
            "description_width": ""
          }
        },
        "480eefbb0c3d4ec9888cb7d6b74955dc": {
          "model_module": "@jupyter-widgets/base",
          "model_name": "LayoutModel",
          "model_module_version": "1.2.0",
          "state": {
            "_model_module": "@jupyter-widgets/base",
            "_model_module_version": "1.2.0",
            "_model_name": "LayoutModel",
            "_view_count": null,
            "_view_module": "@jupyter-widgets/base",
            "_view_module_version": "1.2.0",
            "_view_name": "LayoutView",
            "align_content": null,
            "align_items": null,
            "align_self": null,
            "border": null,
            "bottom": null,
            "display": null,
            "flex": null,
            "flex_flow": null,
            "grid_area": null,
            "grid_auto_columns": null,
            "grid_auto_flow": null,
            "grid_auto_rows": null,
            "grid_column": null,
            "grid_gap": null,
            "grid_row": null,
            "grid_template_areas": null,
            "grid_template_columns": null,
            "grid_template_rows": null,
            "height": null,
            "justify_content": null,
            "justify_items": null,
            "left": null,
            "margin": null,
            "max_height": null,
            "max_width": null,
            "min_height": null,
            "min_width": null,
            "object_fit": null,
            "object_position": null,
            "order": null,
            "overflow": null,
            "overflow_x": null,
            "overflow_y": null,
            "padding": null,
            "right": null,
            "top": null,
            "visibility": null,
            "width": null
          }
        },
        "d2020fde83a44c94aa8a600fa73d24a1": {
          "model_module": "@jupyter-widgets/controls",
          "model_name": "ProgressStyleModel",
          "model_module_version": "1.5.0",
          "state": {
            "_model_module": "@jupyter-widgets/controls",
            "_model_module_version": "1.5.0",
            "_model_name": "ProgressStyleModel",
            "_view_count": null,
            "_view_module": "@jupyter-widgets/base",
            "_view_module_version": "1.2.0",
            "_view_name": "StyleView",
            "bar_color": null,
            "description_width": ""
          }
        },
        "42ae2733e0794806bc377a7cc58d07b5": {
          "model_module": "@jupyter-widgets/base",
          "model_name": "LayoutModel",
          "model_module_version": "1.2.0",
          "state": {
            "_model_module": "@jupyter-widgets/base",
            "_model_module_version": "1.2.0",
            "_model_name": "LayoutModel",
            "_view_count": null,
            "_view_module": "@jupyter-widgets/base",
            "_view_module_version": "1.2.0",
            "_view_name": "LayoutView",
            "align_content": null,
            "align_items": null,
            "align_self": null,
            "border": null,
            "bottom": null,
            "display": null,
            "flex": null,
            "flex_flow": null,
            "grid_area": null,
            "grid_auto_columns": null,
            "grid_auto_flow": null,
            "grid_auto_rows": null,
            "grid_column": null,
            "grid_gap": null,
            "grid_row": null,
            "grid_template_areas": null,
            "grid_template_columns": null,
            "grid_template_rows": null,
            "height": null,
            "justify_content": null,
            "justify_items": null,
            "left": null,
            "margin": null,
            "max_height": null,
            "max_width": null,
            "min_height": null,
            "min_width": null,
            "object_fit": null,
            "object_position": null,
            "order": null,
            "overflow": null,
            "overflow_x": null,
            "overflow_y": null,
            "padding": null,
            "right": null,
            "top": null,
            "visibility": null,
            "width": null
          }
        },
        "b943620d58f044e38a7f6342967e4ce1": {
          "model_module": "@jupyter-widgets/controls",
          "model_name": "DescriptionStyleModel",
          "model_module_version": "1.5.0",
          "state": {
            "_model_module": "@jupyter-widgets/controls",
            "_model_module_version": "1.5.0",
            "_model_name": "DescriptionStyleModel",
            "_view_count": null,
            "_view_module": "@jupyter-widgets/base",
            "_view_module_version": "1.2.0",
            "_view_name": "StyleView",
            "description_width": ""
          }
        },
        "03e0d6a830634450947fcb4f032283c6": {
          "model_module": "@jupyter-widgets/controls",
          "model_name": "HBoxModel",
          "model_module_version": "1.5.0",
          "state": {
            "_dom_classes": [],
            "_model_module": "@jupyter-widgets/controls",
            "_model_module_version": "1.5.0",
            "_model_name": "HBoxModel",
            "_view_count": null,
            "_view_module": "@jupyter-widgets/controls",
            "_view_module_version": "1.5.0",
            "_view_name": "HBoxView",
            "box_style": "",
            "children": [
              "IPY_MODEL_89e9b1878b05456094ba9aa547e96eb0",
              "IPY_MODEL_ed2e4db95ec54c49a7abd17bd529aa15",
              "IPY_MODEL_103b17e2035d4a9d90d8fcc4a79aab58"
            ],
            "layout": "IPY_MODEL_0b8fdd82596442ada5ec0d5a0785185d"
          }
        },
        "89e9b1878b05456094ba9aa547e96eb0": {
          "model_module": "@jupyter-widgets/controls",
          "model_name": "HTMLModel",
          "model_module_version": "1.5.0",
          "state": {
            "_dom_classes": [],
            "_model_module": "@jupyter-widgets/controls",
            "_model_module_version": "1.5.0",
            "_model_name": "HTMLModel",
            "_view_count": null,
            "_view_module": "@jupyter-widgets/controls",
            "_view_module_version": "1.5.0",
            "_view_name": "HTMLView",
            "description": "",
            "description_tooltip": null,
            "layout": "IPY_MODEL_21cdc57897b54c7bb35fdf3eb175e814",
            "placeholder": "​",
            "style": "IPY_MODEL_71d0e2079b2b4979b7db081948cd5204",
            "value": "100%"
          }
        },
        "ed2e4db95ec54c49a7abd17bd529aa15": {
          "model_module": "@jupyter-widgets/controls",
          "model_name": "FloatProgressModel",
          "model_module_version": "1.5.0",
          "state": {
            "_dom_classes": [],
            "_model_module": "@jupyter-widgets/controls",
            "_model_module_version": "1.5.0",
            "_model_name": "FloatProgressModel",
            "_view_count": null,
            "_view_module": "@jupyter-widgets/controls",
            "_view_module_version": "1.5.0",
            "_view_name": "ProgressView",
            "bar_style": "success",
            "description": "",
            "description_tooltip": null,
            "layout": "IPY_MODEL_f1428debf43e4e9590e1e245e80e9c53",
            "max": 5148,
            "min": 0,
            "orientation": "horizontal",
            "style": "IPY_MODEL_966461d55a494904b1f50399fba07ff1",
            "value": 5148
          }
        },
        "103b17e2035d4a9d90d8fcc4a79aab58": {
          "model_module": "@jupyter-widgets/controls",
          "model_name": "HTMLModel",
          "model_module_version": "1.5.0",
          "state": {
            "_dom_classes": [],
            "_model_module": "@jupyter-widgets/controls",
            "_model_module_version": "1.5.0",
            "_model_name": "HTMLModel",
            "_view_count": null,
            "_view_module": "@jupyter-widgets/controls",
            "_view_module_version": "1.5.0",
            "_view_name": "HTMLView",
            "description": "",
            "description_tooltip": null,
            "layout": "IPY_MODEL_c8182665121841d9987b3a2b273b57e2",
            "placeholder": "​",
            "style": "IPY_MODEL_5f89a68ccc694257a0fe24581584e3e4",
            "value": " 5148/5148 [00:00&lt;00:00, 152575.11it/s]"
          }
        },
        "0b8fdd82596442ada5ec0d5a0785185d": {
          "model_module": "@jupyter-widgets/base",
          "model_name": "LayoutModel",
          "model_module_version": "1.2.0",
          "state": {
            "_model_module": "@jupyter-widgets/base",
            "_model_module_version": "1.2.0",
            "_model_name": "LayoutModel",
            "_view_count": null,
            "_view_module": "@jupyter-widgets/base",
            "_view_module_version": "1.2.0",
            "_view_name": "LayoutView",
            "align_content": null,
            "align_items": null,
            "align_self": null,
            "border": null,
            "bottom": null,
            "display": null,
            "flex": null,
            "flex_flow": null,
            "grid_area": null,
            "grid_auto_columns": null,
            "grid_auto_flow": null,
            "grid_auto_rows": null,
            "grid_column": null,
            "grid_gap": null,
            "grid_row": null,
            "grid_template_areas": null,
            "grid_template_columns": null,
            "grid_template_rows": null,
            "height": null,
            "justify_content": null,
            "justify_items": null,
            "left": null,
            "margin": null,
            "max_height": null,
            "max_width": null,
            "min_height": null,
            "min_width": null,
            "object_fit": null,
            "object_position": null,
            "order": null,
            "overflow": null,
            "overflow_x": null,
            "overflow_y": null,
            "padding": null,
            "right": null,
            "top": null,
            "visibility": null,
            "width": null
          }
        },
        "21cdc57897b54c7bb35fdf3eb175e814": {
          "model_module": "@jupyter-widgets/base",
          "model_name": "LayoutModel",
          "model_module_version": "1.2.0",
          "state": {
            "_model_module": "@jupyter-widgets/base",
            "_model_module_version": "1.2.0",
            "_model_name": "LayoutModel",
            "_view_count": null,
            "_view_module": "@jupyter-widgets/base",
            "_view_module_version": "1.2.0",
            "_view_name": "LayoutView",
            "align_content": null,
            "align_items": null,
            "align_self": null,
            "border": null,
            "bottom": null,
            "display": null,
            "flex": null,
            "flex_flow": null,
            "grid_area": null,
            "grid_auto_columns": null,
            "grid_auto_flow": null,
            "grid_auto_rows": null,
            "grid_column": null,
            "grid_gap": null,
            "grid_row": null,
            "grid_template_areas": null,
            "grid_template_columns": null,
            "grid_template_rows": null,
            "height": null,
            "justify_content": null,
            "justify_items": null,
            "left": null,
            "margin": null,
            "max_height": null,
            "max_width": null,
            "min_height": null,
            "min_width": null,
            "object_fit": null,
            "object_position": null,
            "order": null,
            "overflow": null,
            "overflow_x": null,
            "overflow_y": null,
            "padding": null,
            "right": null,
            "top": null,
            "visibility": null,
            "width": null
          }
        },
        "71d0e2079b2b4979b7db081948cd5204": {
          "model_module": "@jupyter-widgets/controls",
          "model_name": "DescriptionStyleModel",
          "model_module_version": "1.5.0",
          "state": {
            "_model_module": "@jupyter-widgets/controls",
            "_model_module_version": "1.5.0",
            "_model_name": "DescriptionStyleModel",
            "_view_count": null,
            "_view_module": "@jupyter-widgets/base",
            "_view_module_version": "1.2.0",
            "_view_name": "StyleView",
            "description_width": ""
          }
        },
        "f1428debf43e4e9590e1e245e80e9c53": {
          "model_module": "@jupyter-widgets/base",
          "model_name": "LayoutModel",
          "model_module_version": "1.2.0",
          "state": {
            "_model_module": "@jupyter-widgets/base",
            "_model_module_version": "1.2.0",
            "_model_name": "LayoutModel",
            "_view_count": null,
            "_view_module": "@jupyter-widgets/base",
            "_view_module_version": "1.2.0",
            "_view_name": "LayoutView",
            "align_content": null,
            "align_items": null,
            "align_self": null,
            "border": null,
            "bottom": null,
            "display": null,
            "flex": null,
            "flex_flow": null,
            "grid_area": null,
            "grid_auto_columns": null,
            "grid_auto_flow": null,
            "grid_auto_rows": null,
            "grid_column": null,
            "grid_gap": null,
            "grid_row": null,
            "grid_template_areas": null,
            "grid_template_columns": null,
            "grid_template_rows": null,
            "height": null,
            "justify_content": null,
            "justify_items": null,
            "left": null,
            "margin": null,
            "max_height": null,
            "max_width": null,
            "min_height": null,
            "min_width": null,
            "object_fit": null,
            "object_position": null,
            "order": null,
            "overflow": null,
            "overflow_x": null,
            "overflow_y": null,
            "padding": null,
            "right": null,
            "top": null,
            "visibility": null,
            "width": null
          }
        },
        "966461d55a494904b1f50399fba07ff1": {
          "model_module": "@jupyter-widgets/controls",
          "model_name": "ProgressStyleModel",
          "model_module_version": "1.5.0",
          "state": {
            "_model_module": "@jupyter-widgets/controls",
            "_model_module_version": "1.5.0",
            "_model_name": "ProgressStyleModel",
            "_view_count": null,
            "_view_module": "@jupyter-widgets/base",
            "_view_module_version": "1.2.0",
            "_view_name": "StyleView",
            "bar_color": null,
            "description_width": ""
          }
        },
        "c8182665121841d9987b3a2b273b57e2": {
          "model_module": "@jupyter-widgets/base",
          "model_name": "LayoutModel",
          "model_module_version": "1.2.0",
          "state": {
            "_model_module": "@jupyter-widgets/base",
            "_model_module_version": "1.2.0",
            "_model_name": "LayoutModel",
            "_view_count": null,
            "_view_module": "@jupyter-widgets/base",
            "_view_module_version": "1.2.0",
            "_view_name": "LayoutView",
            "align_content": null,
            "align_items": null,
            "align_self": null,
            "border": null,
            "bottom": null,
            "display": null,
            "flex": null,
            "flex_flow": null,
            "grid_area": null,
            "grid_auto_columns": null,
            "grid_auto_flow": null,
            "grid_auto_rows": null,
            "grid_column": null,
            "grid_gap": null,
            "grid_row": null,
            "grid_template_areas": null,
            "grid_template_columns": null,
            "grid_template_rows": null,
            "height": null,
            "justify_content": null,
            "justify_items": null,
            "left": null,
            "margin": null,
            "max_height": null,
            "max_width": null,
            "min_height": null,
            "min_width": null,
            "object_fit": null,
            "object_position": null,
            "order": null,
            "overflow": null,
            "overflow_x": null,
            "overflow_y": null,
            "padding": null,
            "right": null,
            "top": null,
            "visibility": null,
            "width": null
          }
        },
        "5f89a68ccc694257a0fe24581584e3e4": {
          "model_module": "@jupyter-widgets/controls",
          "model_name": "DescriptionStyleModel",
          "model_module_version": "1.5.0",
          "state": {
            "_model_module": "@jupyter-widgets/controls",
            "_model_module_version": "1.5.0",
            "_model_name": "DescriptionStyleModel",
            "_view_count": null,
            "_view_module": "@jupyter-widgets/base",
            "_view_module_version": "1.2.0",
            "_view_name": "StyleView",
            "description_width": ""
          }
        }
      }
    }
  },
  "cells": [
    {
      "cell_type": "markdown",
      "metadata": {
        "id": "view-in-github",
        "colab_type": "text"
      },
      "source": [
        "<a href=\"https://colab.research.google.com/github/RahulKrishna8029/ISL_pyTorch/blob/main/ISL_pyTorch_CNN_example.ipynb\" target=\"_parent\"><img src=\"https://colab.research.google.com/assets/colab-badge.svg\" alt=\"Open In Colab\"/></a>"
      ]
    },
    {
      "cell_type": "code",
      "execution_count": 1,
      "metadata": {
        "colab": {
          "base_uri": "https://localhost:8080/"
        },
        "id": "qz_MFCVHg961",
        "outputId": "84e028c4-bb2f-432a-9c7c-1442ce2ac714"
      },
      "outputs": [
        {
          "output_type": "stream",
          "name": "stderr",
          "text": [
            "/usr/local/lib/python3.8/dist-packages/torch/hub.py:267: UserWarning: You are about to download and run code from an untrusted repository. In a future release, this won't be allowed. To add the repository to your trusted list, change the command to {calling_fn}(..., trust_repo=False) and a command prompt will appear asking for an explicit confirmation of trust, or list(..., trust_repo=True), which will assume that the prompt is to be answered with 'yes'. You can also use list(..., trust_repo='check') which will only prompt for confirmation if the repo is not already trusted. This will eventually be the default behaviour\n",
            "  warnings.warn(\n",
            "Downloading: \"https://github.com/RahulKrishna8029/ISL_pyTorch/zipball/main\" to /root/.cache/torch/hub/main.zip\n"
          ]
        },
        {
          "output_type": "stream",
          "name": "stdout",
          "text": [
            "Using cpu device\n",
            "['DataLoader', 'NeuralNetwork', 'ToTensor', 'create_dataloaders', 'get_lossfn_and_optimizer', 'get_model', 'load_data', 'load_model', 'sample_test', 'save_model', 'train']\n"
          ]
        }
      ],
      "source": [
        "import torch\n",
        "\n",
        "myrepo = 'RahulKrishna8029/ISL_pyTorch'\n",
        "\n",
        "entrypoints = torch.hub.list(myrepo,force_reload=True)\n",
        "\n",
        "print (entrypoints)"
      ]
    },
    {
      "cell_type": "code",
      "source": [
        "training_data, test_data = torch.hub.load(myrepo,'load_data',force_reload=True)"
      ],
      "metadata": {
        "colab": {
          "base_uri": "https://localhost:8080/",
          "height": 457,
          "referenced_widgets": [
            "a41f9f53e9b549bc935ecf99be4cb74e",
            "b62ad888171942a2b20f9b291c543bfc",
            "a0f31b22c5624fb0926267faf984cc80",
            "0eea7e75598f45008648ea94f6919082",
            "beba7e05e9304ed98ee19abe92b0ee79",
            "10bd6e7ef49c4f8787b89e6875083b75",
            "66c3c4a51ad14155943853f591a66bbf",
            "1829af887e404f01b9991d697cd0133b",
            "0d38d3023046430d9226918a4309b051",
            "e6adb21b094049f2ba04e046bffc8eaf",
            "8644b8e3bf974c9499c0923af4a753cc",
            "a46dc024211e47ea929d58697d983810",
            "745fabaa5b0e43a88a518d194165e142",
            "0a3884e4eff041f7882f2c2b602868e8",
            "4749496727604fb3a33b903cc4b4627b",
            "2e2aff94222841d9af075b8474013a4f",
            "3f965b423b994ea6854533ed936bd606",
            "d5412306075d4c23a87fee040fde94df",
            "68a43d14dd2a4c2ea16656d30c2fb061",
            "684ff61b9edf43b7a42301c90d93799b",
            "be7fd6eba7c940fa852f6b54ddac12fa",
            "9a3e79470ebb4d6d8e7309c34a95ce57",
            "c04e52038fff4e34bcf258644e497d49",
            "5327b4f9e300420eaecc24709aa7ad4e",
            "42f82daab8e146e584a9ed359057b28f",
            "ae0713d48cfb401b99748aa49ae4ca19",
            "4edf1679089e4e9baa31c98da419ede8",
            "7c65ba1441c642dfb9eee62648243cc2",
            "4005ce6b27dc4675800c0489136bac02",
            "480eefbb0c3d4ec9888cb7d6b74955dc",
            "d2020fde83a44c94aa8a600fa73d24a1",
            "42ae2733e0794806bc377a7cc58d07b5",
            "b943620d58f044e38a7f6342967e4ce1",
            "03e0d6a830634450947fcb4f032283c6",
            "89e9b1878b05456094ba9aa547e96eb0",
            "ed2e4db95ec54c49a7abd17bd529aa15",
            "103b17e2035d4a9d90d8fcc4a79aab58",
            "0b8fdd82596442ada5ec0d5a0785185d",
            "21cdc57897b54c7bb35fdf3eb175e814",
            "71d0e2079b2b4979b7db081948cd5204",
            "f1428debf43e4e9590e1e245e80e9c53",
            "966461d55a494904b1f50399fba07ff1",
            "c8182665121841d9987b3a2b273b57e2",
            "5f89a68ccc694257a0fe24581584e3e4"
          ]
        },
        "id": "l8FS3opjh51i",
        "outputId": "ea3d5bec-7078-4690-fae5-5609169dea7e"
      },
      "execution_count": 2,
      "outputs": [
        {
          "output_type": "stream",
          "name": "stderr",
          "text": [
            "Downloading: \"https://github.com/RahulKrishna8029/ISL_pyTorch/zipball/main\" to /root/.cache/torch/hub/main.zip\n"
          ]
        },
        {
          "output_type": "stream",
          "name": "stdout",
          "text": [
            "Using cpu device\n",
            "Downloading http://fashion-mnist.s3-website.eu-central-1.amazonaws.com/train-images-idx3-ubyte.gz\n",
            "Downloading http://fashion-mnist.s3-website.eu-central-1.amazonaws.com/train-images-idx3-ubyte.gz to data/FashionMNIST/raw/train-images-idx3-ubyte.gz\n"
          ]
        },
        {
          "output_type": "display_data",
          "data": {
            "text/plain": [
              "  0%|          | 0/26421880 [00:00<?, ?it/s]"
            ],
            "application/vnd.jupyter.widget-view+json": {
              "version_major": 2,
              "version_minor": 0,
              "model_id": "a41f9f53e9b549bc935ecf99be4cb74e"
            }
          },
          "metadata": {}
        },
        {
          "output_type": "stream",
          "name": "stdout",
          "text": [
            "Extracting data/FashionMNIST/raw/train-images-idx3-ubyte.gz to data/FashionMNIST/raw\n",
            "\n",
            "Downloading http://fashion-mnist.s3-website.eu-central-1.amazonaws.com/train-labels-idx1-ubyte.gz\n",
            "Downloading http://fashion-mnist.s3-website.eu-central-1.amazonaws.com/train-labels-idx1-ubyte.gz to data/FashionMNIST/raw/train-labels-idx1-ubyte.gz\n"
          ]
        },
        {
          "output_type": "display_data",
          "data": {
            "text/plain": [
              "  0%|          | 0/29515 [00:00<?, ?it/s]"
            ],
            "application/vnd.jupyter.widget-view+json": {
              "version_major": 2,
              "version_minor": 0,
              "model_id": "a46dc024211e47ea929d58697d983810"
            }
          },
          "metadata": {}
        },
        {
          "output_type": "stream",
          "name": "stdout",
          "text": [
            "Extracting data/FashionMNIST/raw/train-labels-idx1-ubyte.gz to data/FashionMNIST/raw\n",
            "\n",
            "Downloading http://fashion-mnist.s3-website.eu-central-1.amazonaws.com/t10k-images-idx3-ubyte.gz\n",
            "Downloading http://fashion-mnist.s3-website.eu-central-1.amazonaws.com/t10k-images-idx3-ubyte.gz to data/FashionMNIST/raw/t10k-images-idx3-ubyte.gz\n"
          ]
        },
        {
          "output_type": "display_data",
          "data": {
            "text/plain": [
              "  0%|          | 0/4422102 [00:00<?, ?it/s]"
            ],
            "application/vnd.jupyter.widget-view+json": {
              "version_major": 2,
              "version_minor": 0,
              "model_id": "c04e52038fff4e34bcf258644e497d49"
            }
          },
          "metadata": {}
        },
        {
          "output_type": "stream",
          "name": "stdout",
          "text": [
            "Extracting data/FashionMNIST/raw/t10k-images-idx3-ubyte.gz to data/FashionMNIST/raw\n",
            "\n",
            "Downloading http://fashion-mnist.s3-website.eu-central-1.amazonaws.com/t10k-labels-idx1-ubyte.gz\n",
            "Downloading http://fashion-mnist.s3-website.eu-central-1.amazonaws.com/t10k-labels-idx1-ubyte.gz to data/FashionMNIST/raw/t10k-labels-idx1-ubyte.gz\n"
          ]
        },
        {
          "output_type": "display_data",
          "data": {
            "text/plain": [
              "  0%|          | 0/5148 [00:00<?, ?it/s]"
            ],
            "application/vnd.jupyter.widget-view+json": {
              "version_major": 2,
              "version_minor": 0,
              "model_id": "03e0d6a830634450947fcb4f032283c6"
            }
          },
          "metadata": {}
        },
        {
          "output_type": "stream",
          "name": "stdout",
          "text": [
            "Extracting data/FashionMNIST/raw/t10k-labels-idx1-ubyte.gz to data/FashionMNIST/raw\n",
            "\n"
          ]
        }
      ]
    },
    {
      "cell_type": "code",
      "source": [
        "train_loader, test_loader = torch.hub.load(myrepo,'create_dataloaders',training_data=training_data, test_data=test_data)"
      ],
      "metadata": {
        "colab": {
          "base_uri": "https://localhost:8080/"
        },
        "id": "jfUKOiSCiB0S",
        "outputId": "95a5ccb3-a126-4cfa-f40c-3a34eef461d1"
      },
      "execution_count": 3,
      "outputs": [
        {
          "output_type": "stream",
          "name": "stdout",
          "text": [
            "Using cpu device\n",
            "Shape of X [N, C, H, W]: torch.Size([8, 1, 28, 28])\n",
            "Shape of y: torch.Size([8]) torch.int64\n"
          ]
        },
        {
          "output_type": "stream",
          "name": "stderr",
          "text": [
            "Using cache found in /root/.cache/torch/hub/RahulKrishna8029_ISL_pyTorch_main\n"
          ]
        }
      ]
    },
    {
      "cell_type": "code",
      "source": [
        "model = torch.hub.load(myrepo,'get_model',force_reload=True)"
      ],
      "metadata": {
        "colab": {
          "base_uri": "https://localhost:8080/"
        },
        "id": "QUN43WtdiNua",
        "outputId": "44a090f2-f998-4ed3-8c78-76e724e06776"
      },
      "execution_count": 4,
      "outputs": [
        {
          "output_type": "stream",
          "name": "stderr",
          "text": [
            "Downloading: \"https://github.com/RahulKrishna8029/ISL_pyTorch/zipball/main\" to /root/.cache/torch/hub/main.zip\n"
          ]
        },
        {
          "output_type": "stream",
          "name": "stdout",
          "text": [
            "Using cpu device\n"
          ]
        }
      ]
    },
    {
      "cell_type": "code",
      "source": [
        "loss_fn, optimizer = torch.hub.load(myrepo,'get_lossfn_and_optimizer',mymodel=model,force_reload=True)"
      ],
      "metadata": {
        "colab": {
          "base_uri": "https://localhost:8080/"
        },
        "id": "ZZIMcgoTifuY",
        "outputId": "7b39908f-e2c6-402c-a248-b15eb8496b9d"
      },
      "execution_count": 5,
      "outputs": [
        {
          "output_type": "stream",
          "name": "stderr",
          "text": [
            "Downloading: \"https://github.com/RahulKrishna8029/ISL_pyTorch/zipball/main\" to /root/.cache/torch/hub/main.zip\n"
          ]
        },
        {
          "output_type": "stream",
          "name": "stdout",
          "text": [
            "Using cpu device\n"
          ]
        }
      ]
    },
    {
      "cell_type": "code",
      "source": [
        "model = torch.hub.load(myrepo,'train',force_reload=True,train_dataloader=train_loader,test_dataloader=test_loader, model1=model, loss_fn1=loss_fn, optimizer1=optimizer, epochs=5)"
      ],
      "metadata": {
        "colab": {
          "base_uri": "https://localhost:8080/"
        },
        "id": "HCwPMqRQio8F",
        "outputId": "dd9874fb-143d-4fec-f431-9f1279e54ed5"
      },
      "execution_count": 6,
      "outputs": [
        {
          "output_type": "stream",
          "name": "stderr",
          "text": [
            "Downloading: \"https://github.com/RahulKrishna8029/ISL_pyTorch/zipball/main\" to /root/.cache/torch/hub/main.zip\n"
          ]
        },
        {
          "output_type": "stream",
          "name": "stdout",
          "text": [
            "Using cpu device\n",
            "Epoch 1\n",
            "-------------------------------\n",
            "loss: 2.265146  [    0/60000]\n",
            "loss: 2.305058  [  800/60000]\n",
            "loss: 2.311134  [ 1600/60000]\n",
            "loss: 2.288030  [ 2400/60000]\n",
            "loss: 2.258218  [ 3200/60000]\n",
            "loss: 2.326997  [ 4000/60000]\n",
            "loss: 2.282580  [ 4800/60000]\n",
            "loss: 2.232972  [ 5600/60000]\n",
            "loss: 2.275453  [ 6400/60000]\n",
            "loss: 2.233186  [ 7200/60000]\n",
            "loss: 2.293015  [ 8000/60000]\n",
            "loss: 2.292571  [ 8800/60000]\n",
            "loss: 2.258402  [ 9600/60000]\n",
            "loss: 2.218094  [10400/60000]\n",
            "loss: 2.262712  [11200/60000]\n",
            "loss: 2.312475  [12000/60000]\n",
            "loss: 2.249541  [12800/60000]\n",
            "loss: 2.216280  [13600/60000]\n",
            "loss: 2.251458  [14400/60000]\n",
            "loss: 2.204455  [15200/60000]\n",
            "loss: 2.316845  [16000/60000]\n",
            "loss: 2.213329  [16800/60000]\n",
            "loss: 2.268669  [17600/60000]\n",
            "loss: 2.205698  [18400/60000]\n",
            "loss: 2.227099  [19200/60000]\n",
            "loss: 2.238932  [20000/60000]\n",
            "loss: 2.104174  [20800/60000]\n",
            "loss: 2.223127  [21600/60000]\n",
            "loss: 2.190136  [22400/60000]\n",
            "loss: 2.171763  [23200/60000]\n",
            "loss: 2.129228  [24000/60000]\n",
            "loss: 2.169012  [24800/60000]\n",
            "loss: 2.094207  [25600/60000]\n",
            "loss: 2.232856  [26400/60000]\n",
            "loss: 2.149589  [27200/60000]\n",
            "loss: 2.149711  [28000/60000]\n",
            "loss: 1.967217  [28800/60000]\n",
            "loss: 2.170803  [29600/60000]\n",
            "loss: 2.025615  [30400/60000]\n",
            "loss: 2.071529  [31200/60000]\n",
            "loss: 1.980265  [32000/60000]\n",
            "loss: 1.960663  [32800/60000]\n",
            "loss: 1.869392  [33600/60000]\n",
            "loss: 1.959197  [34400/60000]\n",
            "loss: 1.852886  [35200/60000]\n",
            "loss: 1.792310  [36000/60000]\n",
            "loss: 1.854339  [36800/60000]\n",
            "loss: 1.871781  [37600/60000]\n",
            "loss: 1.805433  [38400/60000]\n",
            "loss: 1.646498  [39200/60000]\n",
            "loss: 1.637129  [40000/60000]\n",
            "loss: 1.547692  [40800/60000]\n",
            "loss: 1.386383  [41600/60000]\n",
            "loss: 1.369476  [42400/60000]\n",
            "loss: 1.674187  [43200/60000]\n",
            "loss: 1.463265  [44000/60000]\n",
            "loss: 1.209325  [44800/60000]\n",
            "loss: 1.521925  [45600/60000]\n",
            "loss: 1.533382  [46400/60000]\n",
            "loss: 1.280333  [47200/60000]\n",
            "loss: 1.531706  [48000/60000]\n",
            "loss: 1.696876  [48800/60000]\n",
            "loss: 1.295338  [49600/60000]\n",
            "loss: 1.171217  [50400/60000]\n",
            "loss: 1.104059  [51200/60000]\n",
            "loss: 0.880215  [52000/60000]\n",
            "loss: 1.326216  [52800/60000]\n",
            "loss: 1.270673  [53600/60000]\n",
            "loss: 1.345853  [54400/60000]\n",
            "loss: 1.069421  [55200/60000]\n",
            "loss: 1.017707  [56000/60000]\n",
            "loss: 1.242982  [56800/60000]\n",
            "loss: 1.001804  [57600/60000]\n",
            "loss: 1.309762  [58400/60000]\n",
            "loss: 0.950207  [59200/60000]\n",
            "Test Error: \n",
            " Accuracy: 62.4%, Avg loss: 1.066249 \n",
            "\n",
            "Epoch 2\n",
            "-------------------------------\n",
            "loss: 1.044436  [    0/60000]\n",
            "loss: 0.964987  [  800/60000]\n",
            "loss: 1.033983  [ 1600/60000]\n",
            "loss: 1.186294  [ 2400/60000]\n",
            "loss: 1.016984  [ 3200/60000]\n",
            "loss: 0.872898  [ 4000/60000]\n",
            "loss: 0.947390  [ 4800/60000]\n",
            "loss: 0.639520  [ 5600/60000]\n",
            "loss: 0.949679  [ 6400/60000]\n",
            "loss: 1.063410  [ 7200/60000]\n",
            "loss: 1.036722  [ 8000/60000]\n",
            "loss: 1.085499  [ 8800/60000]\n",
            "loss: 1.231295  [ 9600/60000]\n",
            "loss: 0.895495  [10400/60000]\n",
            "loss: 0.763396  [11200/60000]\n",
            "loss: 1.031455  [12000/60000]\n",
            "loss: 0.895752  [12800/60000]\n",
            "loss: 0.762899  [13600/60000]\n",
            "loss: 0.861423  [14400/60000]\n",
            "loss: 0.552096  [15200/60000]\n",
            "loss: 1.190705  [16000/60000]\n",
            "loss: 0.792720  [16800/60000]\n",
            "loss: 0.942555  [17600/60000]\n",
            "loss: 0.943582  [18400/60000]\n",
            "loss: 0.636334  [19200/60000]\n",
            "loss: 1.042038  [20000/60000]\n",
            "loss: 0.779614  [20800/60000]\n",
            "loss: 1.023863  [21600/60000]\n",
            "loss: 0.661212  [22400/60000]\n",
            "loss: 0.801971  [23200/60000]\n",
            "loss: 1.036836  [24000/60000]\n",
            "loss: 0.985875  [24800/60000]\n",
            "loss: 0.360297  [25600/60000]\n",
            "loss: 0.922904  [26400/60000]\n",
            "loss: 0.874572  [27200/60000]\n",
            "loss: 1.184578  [28000/60000]\n",
            "loss: 0.927775  [28800/60000]\n",
            "loss: 1.529211  [29600/60000]\n",
            "loss: 0.774937  [30400/60000]\n",
            "loss: 0.768069  [31200/60000]\n",
            "loss: 0.981249  [32000/60000]\n",
            "loss: 0.776574  [32800/60000]\n",
            "loss: 0.530805  [33600/60000]\n",
            "loss: 1.086260  [34400/60000]\n",
            "loss: 0.571220  [35200/60000]\n",
            "loss: 0.491294  [36000/60000]\n",
            "loss: 0.771272  [36800/60000]\n",
            "loss: 1.375737  [37600/60000]\n",
            "loss: 0.905806  [38400/60000]\n",
            "loss: 0.699839  [39200/60000]\n",
            "loss: 0.619610  [40000/60000]\n",
            "loss: 0.505045  [40800/60000]\n",
            "loss: 0.560436  [41600/60000]\n",
            "loss: 0.461536  [42400/60000]\n",
            "loss: 0.793146  [43200/60000]\n",
            "loss: 0.772391  [44000/60000]\n",
            "loss: 0.348680  [44800/60000]\n",
            "loss: 0.887707  [45600/60000]\n",
            "loss: 0.842989  [46400/60000]\n",
            "loss: 0.707101  [47200/60000]\n",
            "loss: 0.822578  [48000/60000]\n",
            "loss: 1.138511  [48800/60000]\n",
            "loss: 0.840962  [49600/60000]\n",
            "loss: 0.799579  [50400/60000]\n",
            "loss: 0.480514  [51200/60000]\n",
            "loss: 0.361403  [52000/60000]\n",
            "loss: 0.774538  [52800/60000]\n",
            "loss: 0.930080  [53600/60000]\n",
            "loss: 1.052323  [54400/60000]\n",
            "loss: 0.461079  [55200/60000]\n",
            "loss: 0.758836  [56000/60000]\n",
            "loss: 0.873636  [56800/60000]\n",
            "loss: 0.749604  [57600/60000]\n",
            "loss: 1.031231  [58400/60000]\n",
            "loss: 0.572552  [59200/60000]\n",
            "Test Error: \n",
            " Accuracy: 72.6%, Avg loss: 0.740021 \n",
            "\n",
            "Epoch 3\n",
            "-------------------------------\n",
            "loss: 1.060347  [    0/60000]\n",
            "loss: 0.444408  [  800/60000]\n",
            "loss: 0.800795  [ 1600/60000]\n",
            "loss: 1.226550  [ 2400/60000]\n",
            "loss: 0.616504  [ 3200/60000]\n",
            "loss: 0.439678  [ 4000/60000]\n",
            "loss: 0.686661  [ 4800/60000]\n",
            "loss: 0.567180  [ 5600/60000]\n",
            "loss: 0.661719  [ 6400/60000]\n",
            "loss: 1.002803  [ 7200/60000]\n",
            "loss: 0.650854  [ 8000/60000]\n",
            "loss: 0.732086  [ 8800/60000]\n",
            "loss: 0.967466  [ 9600/60000]\n",
            "loss: 0.775510  [10400/60000]\n",
            "loss: 0.393418  [11200/60000]\n",
            "loss: 0.919648  [12000/60000]\n",
            "loss: 0.742360  [12800/60000]\n",
            "loss: 0.549104  [13600/60000]\n",
            "loss: 0.480063  [14400/60000]\n",
            "loss: 0.335127  [15200/60000]\n",
            "loss: 1.159484  [16000/60000]\n",
            "loss: 0.840826  [16800/60000]\n",
            "loss: 0.618771  [17600/60000]\n",
            "loss: 0.902862  [18400/60000]\n",
            "loss: 0.398394  [19200/60000]\n",
            "loss: 0.600560  [20000/60000]\n",
            "loss: 0.669127  [20800/60000]\n",
            "loss: 0.892234  [21600/60000]\n",
            "loss: 0.489889  [22400/60000]\n",
            "loss: 0.636761  [23200/60000]\n",
            "loss: 0.856750  [24000/60000]\n",
            "loss: 0.997145  [24800/60000]\n",
            "loss: 0.194422  [25600/60000]\n",
            "loss: 0.603512  [26400/60000]\n",
            "loss: 0.703857  [27200/60000]\n",
            "loss: 1.188505  [28000/60000]\n",
            "loss: 0.891834  [28800/60000]\n",
            "loss: 1.294334  [29600/60000]\n",
            "loss: 0.611314  [30400/60000]\n",
            "loss: 0.724698  [31200/60000]\n",
            "loss: 0.922307  [32000/60000]\n",
            "loss: 0.619347  [32800/60000]\n",
            "loss: 0.403207  [33600/60000]\n",
            "loss: 0.900787  [34400/60000]\n",
            "loss: 0.393899  [35200/60000]\n",
            "loss: 0.363356  [36000/60000]\n",
            "loss: 0.543588  [36800/60000]\n",
            "loss: 1.445502  [37600/60000]\n",
            "loss: 0.714738  [38400/60000]\n",
            "loss: 0.648977  [39200/60000]\n",
            "loss: 0.611040  [40000/60000]\n",
            "loss: 0.434550  [40800/60000]\n",
            "loss: 0.536388  [41600/60000]\n",
            "loss: 0.366902  [42400/60000]\n",
            "loss: 0.675352  [43200/60000]\n",
            "loss: 0.727683  [44000/60000]\n",
            "loss: 0.325424  [44800/60000]\n",
            "loss: 0.672084  [45600/60000]\n",
            "loss: 0.742128  [46400/60000]\n",
            "loss: 0.602470  [47200/60000]\n",
            "loss: 0.650869  [48000/60000]\n",
            "loss: 0.784650  [48800/60000]\n",
            "loss: 0.782503  [49600/60000]\n",
            "loss: 0.687856  [50400/60000]\n",
            "loss: 0.345318  [51200/60000]\n",
            "loss: 0.251917  [52000/60000]\n",
            "loss: 0.656433  [52800/60000]\n",
            "loss: 0.880989  [53600/60000]\n",
            "loss: 0.999652  [54400/60000]\n",
            "loss: 0.339201  [55200/60000]\n",
            "loss: 0.731561  [56000/60000]\n",
            "loss: 0.676289  [56800/60000]\n",
            "loss: 0.739960  [57600/60000]\n",
            "loss: 0.986864  [58400/60000]\n",
            "loss: 0.516950  [59200/60000]\n",
            "Test Error: \n",
            " Accuracy: 77.5%, Avg loss: 0.641001 \n",
            "\n",
            "Epoch 4\n",
            "-------------------------------\n",
            "loss: 1.067094  [    0/60000]\n",
            "loss: 0.285806  [  800/60000]\n",
            "loss: 0.744737  [ 1600/60000]\n",
            "loss: 1.197883  [ 2400/60000]\n",
            "loss: 0.604521  [ 3200/60000]\n",
            "loss: 0.328770  [ 4000/60000]\n",
            "loss: 0.618322  [ 4800/60000]\n",
            "loss: 0.538115  [ 5600/60000]\n",
            "loss: 0.572212  [ 6400/60000]\n",
            "loss: 1.013101  [ 7200/60000]\n",
            "loss: 0.490957  [ 8000/60000]\n",
            "loss: 0.596184  [ 8800/60000]\n",
            "loss: 0.824062  [ 9600/60000]\n",
            "loss: 0.694414  [10400/60000]\n",
            "loss: 0.290651  [11200/60000]\n",
            "loss: 0.729292  [12000/60000]\n",
            "loss: 0.571276  [12800/60000]\n",
            "loss: 0.491526  [13600/60000]\n",
            "loss: 0.285570  [14400/60000]\n",
            "loss: 0.303000  [15200/60000]\n",
            "loss: 1.212882  [16000/60000]\n",
            "loss: 0.930853  [16800/60000]\n",
            "loss: 0.450884  [17600/60000]\n",
            "loss: 0.952360  [18400/60000]\n",
            "loss: 0.322228  [19200/60000]\n",
            "loss: 0.439823  [20000/60000]\n",
            "loss: 0.703502  [20800/60000]\n",
            "loss: 0.816462  [21600/60000]\n",
            "loss: 0.422330  [22400/60000]\n",
            "loss: 0.511293  [23200/60000]\n",
            "loss: 0.768487  [24000/60000]\n",
            "loss: 0.991543  [24800/60000]\n",
            "loss: 0.154028  [25600/60000]\n",
            "loss: 0.364400  [26400/60000]\n",
            "loss: 0.549679  [27200/60000]\n",
            "loss: 1.168856  [28000/60000]\n",
            "loss: 0.750376  [28800/60000]\n",
            "loss: 1.107161  [29600/60000]\n",
            "loss: 0.501037  [30400/60000]\n",
            "loss: 0.655933  [31200/60000]\n",
            "loss: 0.811877  [32000/60000]\n",
            "loss: 0.499516  [32800/60000]\n",
            "loss: 0.378990  [33600/60000]\n",
            "loss: 0.771877  [34400/60000]\n",
            "loss: 0.302048  [35200/60000]\n",
            "loss: 0.281370  [36000/60000]\n",
            "loss: 0.427374  [36800/60000]\n",
            "loss: 1.460611  [37600/60000]\n",
            "loss: 0.587092  [38400/60000]\n",
            "loss: 0.545864  [39200/60000]\n",
            "loss: 0.686546  [40000/60000]\n",
            "loss: 0.417417  [40800/60000]\n",
            "loss: 0.554172  [41600/60000]\n",
            "loss: 0.325082  [42400/60000]\n",
            "loss: 0.594660  [43200/60000]\n",
            "loss: 0.687960  [44000/60000]\n",
            "loss: 0.329687  [44800/60000]\n",
            "loss: 0.532215  [45600/60000]\n",
            "loss: 0.700571  [46400/60000]\n",
            "loss: 0.568345  [47200/60000]\n",
            "loss: 0.573820  [48000/60000]\n",
            "loss: 0.603103  [48800/60000]\n",
            "loss: 0.738154  [49600/60000]\n",
            "loss: 0.596661  [50400/60000]\n",
            "loss: 0.260882  [51200/60000]\n",
            "loss: 0.209816  [52000/60000]\n",
            "loss: 0.596703  [52800/60000]\n",
            "loss: 0.819552  [53600/60000]\n",
            "loss: 0.958690  [54400/60000]\n",
            "loss: 0.321573  [55200/60000]\n",
            "loss: 0.653546  [56000/60000]\n",
            "loss: 0.544138  [56800/60000]\n",
            "loss: 0.680626  [57600/60000]\n",
            "loss: 0.946039  [58400/60000]\n",
            "loss: 0.483657  [59200/60000]\n",
            "Test Error: \n",
            " Accuracy: 79.6%, Avg loss: 0.581862 \n",
            "\n",
            "Epoch 5\n",
            "-------------------------------\n",
            "loss: 1.030637  [    0/60000]\n",
            "loss: 0.246436  [  800/60000]\n",
            "loss: 0.683544  [ 1600/60000]\n",
            "loss: 1.132510  [ 2400/60000]\n",
            "loss: 0.659281  [ 3200/60000]\n",
            "loss: 0.257707  [ 4000/60000]\n",
            "loss: 0.588819  [ 4800/60000]\n",
            "loss: 0.493146  [ 5600/60000]\n",
            "loss: 0.527412  [ 6400/60000]\n",
            "loss: 0.975872  [ 7200/60000]\n",
            "loss: 0.428909  [ 8000/60000]\n",
            "loss: 0.551819  [ 8800/60000]\n",
            "loss: 0.728498  [ 9600/60000]\n",
            "loss: 0.580924  [10400/60000]\n",
            "loss: 0.253280  [11200/60000]\n",
            "loss: 0.581147  [12000/60000]\n",
            "loss: 0.464408  [12800/60000]\n",
            "loss: 0.454813  [13600/60000]\n",
            "loss: 0.183235  [14400/60000]\n",
            "loss: 0.295868  [15200/60000]\n",
            "loss: 1.275670  [16000/60000]\n",
            "loss: 1.014875  [16800/60000]\n",
            "loss: 0.348831  [17600/60000]\n",
            "loss: 0.959698  [18400/60000]\n",
            "loss: 0.297595  [19200/60000]\n",
            "loss: 0.367561  [20000/60000]\n",
            "loss: 0.754395  [20800/60000]\n",
            "loss: 0.734776  [21600/60000]\n",
            "loss: 0.373769  [22400/60000]\n",
            "loss: 0.432058  [23200/60000]\n",
            "loss: 0.705837  [24000/60000]\n",
            "loss: 0.981535  [24800/60000]\n",
            "loss: 0.138782  [25600/60000]\n",
            "loss: 0.246494  [26400/60000]\n",
            "loss: 0.452796  [27200/60000]\n",
            "loss: 1.178976  [28000/60000]\n",
            "loss: 0.599938  [28800/60000]\n",
            "loss: 1.008738  [29600/60000]\n",
            "loss: 0.432195  [30400/60000]\n",
            "loss: 0.596159  [31200/60000]\n",
            "loss: 0.697034  [32000/60000]\n",
            "loss: 0.411373  [32800/60000]\n",
            "loss: 0.379395  [33600/60000]\n",
            "loss: 0.715678  [34400/60000]\n",
            "loss: 0.251380  [35200/60000]\n",
            "loss: 0.244466  [36000/60000]\n",
            "loss: 0.349270  [36800/60000]\n",
            "loss: 1.444178  [37600/60000]\n",
            "loss: 0.551212  [38400/60000]\n",
            "loss: 0.496105  [39200/60000]\n",
            "loss: 0.737726  [40000/60000]\n",
            "loss: 0.413486  [40800/60000]\n",
            "loss: 0.566045  [41600/60000]\n",
            "loss: 0.300895  [42400/60000]\n",
            "loss: 0.530294  [43200/60000]\n",
            "loss: 0.667818  [44000/60000]\n",
            "loss: 0.333075  [44800/60000]\n",
            "loss: 0.475056  [45600/60000]\n",
            "loss: 0.687232  [46400/60000]\n",
            "loss: 0.551399  [47200/60000]\n",
            "loss: 0.542662  [48000/60000]\n",
            "loss: 0.512155  [48800/60000]\n",
            "loss: 0.703564  [49600/60000]\n",
            "loss: 0.497374  [50400/60000]\n",
            "loss: 0.211878  [51200/60000]\n",
            "loss: 0.192733  [52000/60000]\n",
            "loss: 0.572748  [52800/60000]\n",
            "loss: 0.772109  [53600/60000]\n",
            "loss: 0.919779  [54400/60000]\n",
            "loss: 0.316188  [55200/60000]\n",
            "loss: 0.559504  [56000/60000]\n",
            "loss: 0.487928  [56800/60000]\n",
            "loss: 0.623171  [57600/60000]\n",
            "loss: 0.891031  [58400/60000]\n",
            "loss: 0.468103  [59200/60000]\n",
            "Test Error: \n",
            " Accuracy: 80.9%, Avg loss: 0.543637 \n",
            "\n",
            "Done!\n"
          ]
        }
      ]
    },
    {
      "cell_type": "code",
      "source": [
        "torch.hub.load(myrepo,'sample_test',model1=model,test_data=test_data,force_reload=True)"
      ],
      "metadata": {
        "colab": {
          "base_uri": "https://localhost:8080/"
        },
        "id": "KucyDHAWjReg",
        "outputId": "e277f01a-c004-4d0a-f967-b9347c9c3a0c"
      },
      "execution_count": 7,
      "outputs": [
        {
          "output_type": "stream",
          "name": "stderr",
          "text": [
            "Downloading: \"https://github.com/RahulKrishna8029/ISL_pyTorch/zipball/main\" to /root/.cache/torch/hub/main.zip\n"
          ]
        },
        {
          "output_type": "stream",
          "name": "stdout",
          "text": [
            "Using cpu device\n",
            "Predicted: \"Ankle boot\", Actual: \"Ankle boot\"\n"
          ]
        }
      ]
    },
    {
      "cell_type": "code",
      "source": [
        "torch.hub.load(myrepo,'save_model',model1=model,mypath='Rahul_model.pth',force_reload=True)"
      ],
      "metadata": {
        "colab": {
          "base_uri": "https://localhost:8080/"
        },
        "id": "rqlBlK5Tkm_m",
        "outputId": "bd7abbf0-0002-4bee-9b74-710ff21e08fc"
      },
      "execution_count": 8,
      "outputs": [
        {
          "output_type": "stream",
          "name": "stderr",
          "text": [
            "Downloading: \"https://github.com/RahulKrishna8029/ISL_pyTorch/zipball/main\" to /root/.cache/torch/hub/main.zip\n"
          ]
        },
        {
          "output_type": "stream",
          "name": "stdout",
          "text": [
            "Using cpu device\n",
            "Saved PyTorch Model State to model.pth\n"
          ]
        }
      ]
    },
    {
      "cell_type": "code",
      "source": [
        "model2=torch.hub.load(myrepo,'load_model',mypath='Rahul_model.pth',force_reload=True)"
      ],
      "metadata": {
        "colab": {
          "base_uri": "https://localhost:8080/"
        },
        "id": "OFF_-z9RlBHL",
        "outputId": "55c72c85-1300-47bc-80f1-d439221cd3f4"
      },
      "execution_count": 9,
      "outputs": [
        {
          "output_type": "stream",
          "name": "stderr",
          "text": [
            "Downloading: \"https://github.com/RahulKrishna8029/ISL_pyTorch/zipball/main\" to /root/.cache/torch/hub/main.zip\n"
          ]
        },
        {
          "output_type": "stream",
          "name": "stdout",
          "text": [
            "Using cpu device\n"
          ]
        }
      ]
    },
    {
      "cell_type": "code",
      "source": [
        "print(model2)"
      ],
      "metadata": {
        "colab": {
          "base_uri": "https://localhost:8080/"
        },
        "id": "ZWGuMDe6lWv5",
        "outputId": "10dd2101-e107-4eb6-c0e9-cfcf0a6109a9"
      },
      "execution_count": 10,
      "outputs": [
        {
          "output_type": "stream",
          "name": "stdout",
          "text": [
            "NeuralNetwork(\n",
            "  (flatten): Flatten(start_dim=1, end_dim=-1)\n",
            "  (linear_relu_stack): Sequential(\n",
            "    (0): Linear(in_features=784, out_features=512, bias=True)\n",
            "    (1): ReLU()\n",
            "    (2): Linear(in_features=512, out_features=512, bias=True)\n",
            "    (3): ReLU()\n",
            "    (4): Linear(in_features=512, out_features=40, bias=True)\n",
            "    (5): ReLU()\n",
            "    (6): Linear(in_features=40, out_features=10, bias=True)\n",
            "  )\n",
            ")\n"
          ]
        }
      ]
    },
    {
      "cell_type": "code",
      "source": [
        "import torchvision\n",
        "\n",
        "!pip install --upgrade torch torchvision"
      ],
      "metadata": {
        "colab": {
          "base_uri": "https://localhost:8080/"
        },
        "id": "WPOj96VpldIk",
        "outputId": "dd507e7e-f240-44b4-8881-23670d498a6d"
      },
      "execution_count": 11,
      "outputs": [
        {
          "output_type": "stream",
          "name": "stdout",
          "text": [
            "Looking in indexes: https://pypi.org/simple, https://us-python.pkg.dev/colab-wheels/public/simple/\n",
            "Requirement already satisfied: torch in /usr/local/lib/python3.8/dist-packages (1.13.1+cu116)\n",
            "Requirement already satisfied: torchvision in /usr/local/lib/python3.8/dist-packages (0.14.1+cu116)\n",
            "Requirement already satisfied: typing-extensions in /usr/local/lib/python3.8/dist-packages (from torch) (4.5.0)\n",
            "Requirement already satisfied: requests in /usr/local/lib/python3.8/dist-packages (from torchvision) (2.25.1)\n",
            "Requirement already satisfied: numpy in /usr/local/lib/python3.8/dist-packages (from torchvision) (1.21.6)\n",
            "Requirement already satisfied: pillow!=8.3.*,>=5.3.0 in /usr/local/lib/python3.8/dist-packages (from torchvision) (7.1.2)\n",
            "Requirement already satisfied: certifi>=2017.4.17 in /usr/local/lib/python3.8/dist-packages (from requests->torchvision) (2022.12.7)\n",
            "Requirement already satisfied: urllib3<1.27,>=1.21.1 in /usr/local/lib/python3.8/dist-packages (from requests->torchvision) (1.24.3)\n",
            "Requirement already satisfied: chardet<5,>=3.0.2 in /usr/local/lib/python3.8/dist-packages (from requests->torchvision) (4.0.0)\n",
            "Requirement already satisfied: idna<3,>=2.5 in /usr/local/lib/python3.8/dist-packages (from requests->torchvision) (2.10)\n"
          ]
        }
      ]
    },
    {
      "cell_type": "code",
      "source": [
        "from torchvision.models import get_model_weights"
      ],
      "metadata": {
        "id": "kD7RvSdeluOA"
      },
      "execution_count": 12,
      "outputs": []
    },
    {
      "cell_type": "code",
      "source": [
        "import torchvision\n",
        "entrypoints = torch.hub.list('pytorch/vision:v0.10.0', force_reload=True)\n",
        "print (entrypoints)"
      ],
      "metadata": {
        "colab": {
          "base_uri": "https://localhost:8080/"
        },
        "id": "17nTQvYEl0Ho",
        "outputId": "bf5c6f6d-c8cf-46ce-a896-7182d45afde3"
      },
      "execution_count": 13,
      "outputs": [
        {
          "output_type": "stream",
          "name": "stderr",
          "text": [
            "Downloading: \"https://github.com/pytorch/vision/zipball/v0.10.0\" to /root/.cache/torch/hub/v0.10.0.zip\n"
          ]
        },
        {
          "output_type": "stream",
          "name": "stdout",
          "text": [
            "['alexnet', 'deeplabv3_mobilenet_v3_large', 'deeplabv3_resnet101', 'deeplabv3_resnet50', 'densenet121', 'densenet161', 'densenet169', 'densenet201', 'fcn_resnet101', 'fcn_resnet50', 'googlenet', 'inception_v3', 'lraspp_mobilenet_v3_large', 'mnasnet0_5', 'mnasnet0_75', 'mnasnet1_0', 'mnasnet1_3', 'mobilenet_v2', 'mobilenet_v3_large', 'mobilenet_v3_small', 'resnet101', 'resnet152', 'resnet18', 'resnet34', 'resnet50', 'resnext101_32x8d', 'resnext50_32x4d', 'shufflenet_v2_x0_5', 'shufflenet_v2_x1_0', 'squeezenet1_0', 'squeezenet1_1', 'vgg11', 'vgg11_bn', 'vgg13', 'vgg13_bn', 'vgg16', 'vgg16_bn', 'vgg19', 'vgg19_bn', 'wide_resnet101_2', 'wide_resnet50_2']\n"
          ]
        }
      ]
    }
  ]
}